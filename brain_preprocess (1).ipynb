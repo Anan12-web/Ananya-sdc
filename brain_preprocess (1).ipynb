{
  "cells": [
    {
      "cell_type": "code",
      "execution_count": null,
      "id": "d27f1fe0",
      "metadata": {
        "id": "d27f1fe0",
        "outputId": "5817d008-b5f7-4853-9fac-563174af28ed"
      },
      "outputs": [
        {
          "name": "stdout",
          "output_type": "stream",
          "text": [
            "✅ Preprocessing + Split complete! Images resized, normalized, denoised, and saved into train/val/test folders.\n"
          ]
        }
      ],
      "source": [
        "import os\n",
        "import cv2\n",
        "import numpy as np\n",
        "\n",
        "# Paths\n",
        "input_images_dir = \"C:\\Users\\Aarathi Nagarajan\\Desktop\\sdc\\Brain Tumer Segmentation.zip\"\n",
        "input_masks_dir = \"C:\\Users\\Aarathi Nagarajan\\Desktop\\sdc\\Brain Tumer Segmentation.zip\"\n",
        "output_base_dir = \"C:\\Users\\Aarathi Nagarajan\\Desktop\\sdc\\output\"\n",
        "\n",
        "# Folders for splits\n",
        "splits = {\n",
        "    'train': (0, 2000),\n",
        "    'val': (2000, 2500),\n",
        "    'test': (2500, 3064)  # total = 2000+500+564\n",
        "}\n",
        "\n",
        "# Create output folders\n",
        "for split in splits.keys():\n",
        "    os.makedirs(os.path.join(output_base_dir, split, 'images'), exist_ok=True)\n",
        "    os.makedirs(os.path.join(output_base_dir, split, 'masks'), exist_ok=True)\n",
        "\n",
        "# Target size\n",
        "target_size = (256, 256)\n",
        "\n",
        "# Sort filenames to keep consistent order\n",
        "filenames = sorted([f for f in os.listdir(input_images_dir) if f.endswith(('.png', '.jpg', '.jpeg'))])\n",
        "\n",
        "# Process\n",
        "for idx, filename in enumerate(filenames):\n",
        "    # Load image and mask in GRAYSCALE\n",
        "    img_path = os.path.join(input_images_dir, filename)\n",
        "    mask_path = os.path.join(input_masks_dir, filename)\n",
        "\n",
        "    img = cv2.imread(img_path, cv2.IMREAD_GRAYSCALE)\n",
        "    mask = cv2.imread(mask_path, cv2.IMREAD_GRAYSCALE)\n",
        "\n",
        "    # Resize\n",
        "    img_resized = cv2.resize(img, target_size, interpolation=cv2.INTER_AREA)\n",
        "    mask_resized = cv2.resize(mask, target_size, interpolation=cv2.INTER_NEAREST)\n",
        "\n",
        "    # Normalize image\n",
        "    img_normalized = img_resized.astype(np.float32) / 255.0\n",
        "\n",
        "    # Denoise using fastNlMeansDenoising\n",
        "    img_uint8 = (img_normalized * 255).astype(np.uint8)\n",
        "    img_denoised = cv2.fastNlMeansDenoising(img_uint8, None, h=10, templateWindowSize=7, searchWindowSize=21)\n",
        "\n",
        "    # Decide split\n",
        "    if idx < splits['train'][1]:\n",
        "        split = 'train'\n",
        "    elif idx < splits['val'][1]:\n",
        "        split = 'val'\n",
        "    else:\n",
        "        split = 'test'\n",
        "\n",
        "    # Save\n",
        "    img_save_path = os.path.join(output_base_dir, split, 'images', filename)\n",
        "    mask_save_path = os.path.join(output_base_dir, split, 'masks', filename)\n",
        "\n",
        "    cv2.imwrite(img_save_path, img_denoised)\n",
        "    cv2.imwrite(mask_save_path, mask_resized)\n",
        "\n",
        "print(\"✅ Preprocessing + Split complete! Images resized, normalized, denoised, and saved into train/val/test folders.\")\n"
      ]
    },
    {
      "cell_type": "code",
      "source": [],
      "metadata": {
        "id": "D1e5aV-N9zIK"
      },
      "id": "D1e5aV-N9zIK",
      "execution_count": null,
      "outputs": []
    },
    {
      "cell_type": "code",
      "source": [],
      "metadata": {
        "id": "W1cNe8MK-AIB"
      },
      "id": "W1cNe8MK-AIB",
      "execution_count": null,
      "outputs": []
    },
    {
      "cell_type": "code",
      "source": [],
      "metadata": {
        "id": "x5ixqnkc-AEn"
      },
      "id": "x5ixqnkc-AEn",
      "execution_count": null,
      "outputs": []
    }
  ],
  "metadata": {
    "kernelspec": {
      "display_name": "Python 3",
      "language": "python",
      "name": "python3"
    },
    "language_info": {
      "codemirror_mode": {
        "name": "ipython",
        "version": 3
      },
      "file_extension": ".py",
      "mimetype": "text/x-python",
      "name": "python",
      "nbconvert_exporter": "python",
      "pygments_lexer": "ipython3",
      "version": "3.12.7"
    },
    "colab": {
      "provenance": []
    }
  },
  "nbformat": 4,
  "nbformat_minor": 5
}